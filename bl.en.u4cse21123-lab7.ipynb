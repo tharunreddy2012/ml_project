{
  "nbformat": 4,
  "nbformat_minor": 0,
  "metadata": {
    "colab": {
      "provenance": []
    },
    "kernelspec": {
      "name": "python3",
      "display_name": "Python 3"
    },
    "language_info": {
      "name": "python"
    }
  },
  "cells": [
    {
      "cell_type": "markdown",
      "source": [
        "**A1**"
      ],
      "metadata": {
        "id": "3JnjaL0uBCHn"
      }
    },
    {
      "cell_type": "code",
      "source": [
        "import pandas as pd\n",
        "from sklearn import svm\n",
        "from sklearn.model_selection import train_test_split\n",
        "from sklearn.preprocessing import LabelEncoder\n",
        "from sklearn.impute import SimpleImputer\n",
        "\n",
        "label_encoder = LabelEncoder()\n",
        "df['Gender'] = label_encoder.fit_transform(df['Gender'])\n",
        "df['Customer Type'] = label_encoder.fit_transform(df['Customer Type'])\n",
        "df['Type of Travel'] = label_encoder.fit_transform(df['Type of Travel'])\n",
        "df['Class'] = label_encoder.fit_transform(df['Class'])\n",
        "df['satisfaction'] = label_encoder.fit_transform(df['satisfaction'])\n",
        "\n",
        "X = df.drop('satisfaction', axis=1)\n",
        "y = df['satisfaction']\n",
        "\n",
        "class_1 = 0\n",
        "class_2 = 1\n",
        "\n",
        "X_binary = X[(y == class_1) | (y == class_2)]\n",
        "y_binary = y[(y == class_1) | (y == class_2)]\n",
        "\n",
        "X_train, X_test, y_train, y_test = train_test_split(X_binary, y_binary, test_size=0.2, random_state=42)\n",
        "\n",
        "imputer = SimpleImputer(strategy='mean')\n",
        "X_train_imputed = imputer.fit_transform(X_train)\n",
        "\n",
        "clf = svm.SVC()\n",
        "\n",
        "clf.fit(X_train_imputed, y_train)\n",
        "\n",
        "support_vectors = clf.support_vectors_\n",
        "\n",
        "print(\"Support Vectors:\")\n",
        "print(support_vectors)"
      ],
      "metadata": {
        "id": "R5VldUmoAweb",
        "outputId": "13a44d9d-a55e-48ef-8a16-d3887eff70cd",
        "colab": {
          "base_uri": "https://localhost:8080/"
        }
      },
      "execution_count": 3,
      "outputs": [
        {
          "output_type": "stream",
          "name": "stdout",
          "text": [
            "Support Vectors:\n",
            "[[ 1.  1. 29. ...  4.  2.  0.]\n",
            " [ 0.  0.  9. ...  1.  0.  0.]\n",
            " [ 0.  1. 25. ...  5.  0.  5.]\n",
            " ...\n",
            " [ 0.  0. 21. ...  4.  0.  0.]\n",
            " [ 0.  0. 55. ...  1.  0.  3.]\n",
            " [ 1.  0. 36. ...  4.  0.  0.]]\n"
          ]
        }
      ]
    },
    {
      "cell_type": "markdown",
      "source": [
        "**A2**"
      ],
      "metadata": {
        "id": "uX4VWAVmBEtm"
      }
    },
    {
      "cell_type": "code",
      "source": [
        "import pandas as pd\n",
        "from sklearn import svm\n",
        "from sklearn.model_selection import train_test_split\n",
        "from sklearn.preprocessing import LabelEncoder\n",
        "from sklearn.impute import SimpleImputer\n",
        "\n",
        "columns_to_drop = ['Unnamed: 0', 'id']\n",
        "df = df.drop(columns_to_drop, axis=1, errors='ignore')\n",
        "\n",
        "label_encoder = LabelEncoder()\n",
        "for column in ['Gender', 'Customer Type', 'Type of Travel', 'Class', 'satisfaction']:\n",
        "    df[column] = label_encoder.fit_transform(df[column])\n",
        "\n",
        "X = df.drop('satisfaction', axis=1)\n",
        "y = df['satisfaction']\n",
        "\n",
        "class_1 = 0\n",
        "class_2 = 1\n",
        "\n",
        "X_binary = X[(y == class_1) | (y == class_2)]\n",
        "y_binary = y[(y == class_1) | (y == class_2)]\n",
        "\n",
        "X_train, X_test, y_train, y_test = train_test_split(X_binary, y_binary, test_size=0.2, random_state=42)\n",
        "\n",
        "imputer = SimpleImputer(strategy='mean')\n",
        "X_train_imputed = imputer.fit_transform(X_train)\n",
        "X_test_imputed = imputer.transform(X_test)\n",
        "\n",
        "clf = svm.SVC()\n",
        "\n",
        "clf.fit(X_train_imputed, y_train)\n",
        "\n",
        "accuracy = clf.score(X_test_imputed, y_test)\n",
        "print(f\"Accuracy on the test set: {accuracy:.2%}\")\n",
        "\n",
        "test_vector = X_test_imputed[0]\n",
        "predicted_class = clf.predict([test_vector])\n",
        "\n",
        "print(f\"Predicted class for the test vector: {predicted_class}\")"
      ],
      "metadata": {
        "id": "hKj9FHdKAwIm",
        "outputId": "020ca031-147c-43f3-8bb4-4f1117459dcc",
        "colab": {
          "base_uri": "https://localhost:8080/"
        }
      },
      "execution_count": 4,
      "outputs": [
        {
          "output_type": "stream",
          "name": "stdout",
          "text": [
            "Accuracy on the test set: 66.57%\n",
            "Predicted class for the test vector: [0]\n"
          ]
        }
      ]
    },
    {
      "cell_type": "markdown",
      "source": [
        "**A3**"
      ],
      "metadata": {
        "id": "_-NFKg3_BGIz"
      }
    },
    {
      "cell_type": "code",
      "source": [
        "import pandas as pd\n",
        "from sklearn import svm\n",
        "from sklearn.model_selection import train_test_split\n",
        "from sklearn.preprocessing import LabelEncoder\n",
        "from sklearn.impute import SimpleImputer\n",
        "\n",
        "df = pd.read_csv('test (2).csv')\n",
        "\n",
        "columns_to_drop = ['Unnamed: 0', 'id']\n",
        "df = df.drop(columns_to_drop, axis=1, errors='ignore')\n",
        "\n",
        "label_encoder = LabelEncoder()\n",
        "for column in ['Gender', 'Customer Type', 'Type of Travel', 'Class', 'satisfaction']:\n",
        "    df[column] = label_encoder.fit_transform(df[column])\n",
        "\n",
        "X = df.drop('satisfaction', axis=1)\n",
        "y = df['satisfaction']\n",
        "\n",
        "class_1 = 0\n",
        "class_2 = 1\n",
        "\n",
        "X_binary = X[(y == class_1) | (y == class_2)]\n",
        "y_binary = y[(y == class_1) | (y == class_2)]\n",
        "\n",
        "X_train, X_test, y_train, y_test = train_test_split(X_binary, y_binary, test_size=0.2, random_state=42)\n",
        "\n",
        "imputer = SimpleImputer(strategy='mean')\n",
        "X_train_imputed = imputer.fit_transform(X_train)\n",
        "X_test_imputed = imputer.transform(X_test)\n",
        "\n",
        "clf = svm.SVC()\n",
        "\n",
        "clf.fit(X_train_imputed, y_train)\n",
        "\n",
        "predicted_labels = clf.predict(X_test_imputed)\n",
        "\n",
        "accuracy = sum(predicted_labels == y_test) / len(y_test)\n",
        "print(f\"Accuracy on the test set: {accuracy:.2%}\")\n",
        "\n",
        "result_df = pd.DataFrame({'Actual Label': y_test, 'Predicted Label': predicted_labels})\n",
        "print(result_df)\n"
      ],
      "metadata": {
        "id": "vChp5fMaAvp4",
        "outputId": "8a011897-40d6-433c-ff22-8139a790d5c1",
        "colab": {
          "base_uri": "https://localhost:8080/"
        }
      },
      "execution_count": 5,
      "outputs": [
        {
          "output_type": "stream",
          "name": "stdout",
          "text": [
            "Accuracy on the test set: 66.57%\n",
            "       Actual Label  Predicted Label\n",
            "13047             0                0\n",
            "14975             1                1\n",
            "12642             0                0\n",
            "23011             1                1\n",
            "13308             0                0\n",
            "...             ...              ...\n",
            "11106             1                1\n",
            "10256             1                0\n",
            "20216             1                1\n",
            "7029              1                1\n",
            "17124             1                0\n",
            "\n",
            "[5196 rows x 2 columns]\n"
          ]
        }
      ]
    },
    {
      "cell_type": "markdown",
      "source": [
        "**A4**"
      ],
      "metadata": {
        "id": "2kuFq3euBHot"
      }
    },
    {
      "cell_type": "code",
      "execution_count": 2,
      "metadata": {
        "colab": {
          "base_uri": "https://localhost:8080/"
        },
        "id": "X9LmKIYl-ZB5",
        "outputId": "76413810-830a-4c43-996c-0f4905393109"
      },
      "outputs": [
        {
          "output_type": "stream",
          "name": "stderr",
          "text": [
            "/usr/local/lib/python3.10/dist-packages/sklearn/svm/_base.py:1244: ConvergenceWarning: Liblinear failed to converge, increase the number of iterations.\n",
            "  warnings.warn(\n"
          ]
        },
        {
          "output_type": "stream",
          "name": "stdout",
          "text": [
            "Accuracy with linear kernel: 46.79%\n",
            "Accuracy with poly kernel: 66.94%\n",
            "Accuracy with rbf kernel: 66.57%\n",
            "Accuracy with sigmoid kernel: 41.78%\n"
          ]
        }
      ],
      "source": [
        "import pandas as pd\n",
        "from sklearn.model_selection import train_test_split\n",
        "from sklearn.preprocessing import LabelEncoder\n",
        "from sklearn.impute import SimpleImputer\n",
        "from sklearn.svm import SVC, LinearSVC\n",
        "from sklearn.metrics import accuracy_score\n",
        "\n",
        "df = pd.read_csv('test (2).csv')\n",
        "\n",
        "columns_to_drop = ['Unnamed: 0', 'id']\n",
        "df = df.drop(columns_to_drop, axis=1, errors='ignore')\n",
        "\n",
        "label_encoder = LabelEncoder()\n",
        "for column in ['Gender', 'Customer Type', 'Type of Travel', 'Class', 'satisfaction']:\n",
        "    df[column] = label_encoder.fit_transform(df[column])\n",
        "\n",
        "X = df.drop('satisfaction', axis=1)\n",
        "y = df['satisfaction']\n",
        "\n",
        "X_train, X_test, y_train, y_test = train_test_split(X, y, test_size=0.2, random_state=42)\n",
        "\n",
        "imputer = SimpleImputer(strategy='mean')\n",
        "X_train_imputed = imputer.fit_transform(X_train)\n",
        "X_test_imputed = imputer.transform(X_test)\n",
        "\n",
        "kernel_functions = ['linear', 'poly', 'rbf', 'sigmoid']\n",
        "\n",
        "for kernel in kernel_functions:\n",
        "    if kernel == 'linear':\n",
        "\n",
        "        clf = LinearSVC()\n",
        "    else:\n",
        "        clf = SVC(kernel=kernel)\n",
        "\n",
        "    clf.fit(X_train_imputed, y_train)\n",
        "\n",
        "    predicted_labels = clf.predict(X_test_imputed)\n",
        "\n",
        "    accuracy = accuracy_score(y_test, predicted_labels)\n",
        "    print(f\"Accuracy with {kernel} kernel: {accuracy:.2%}\")"
      ]
    }
  ]
}